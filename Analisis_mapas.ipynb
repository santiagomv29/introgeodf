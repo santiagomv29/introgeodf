{
 "cells": [
  {
   "cell_type": "code",
   "execution_count": 5,
   "id": "324ab8f7-b54f-458c-9932-c33ca6b46868",
   "metadata": {},
   "outputs": [],
   "source": [
    "import pandas"
   ]
  },
  {
   "cell_type": "code",
   "execution_count": 13,
   "id": "07a6d4c2-e292-4bc8-ac77-4d8fb4b79548",
   "metadata": {},
   "outputs": [
    {
     "name": "stdout",
     "output_type": "stream",
     "text": [
      "Collecting geopandas\n",
      "  Downloading geopandas-0.14.3-py3-none-any.whl.metadata (1.5 kB)\n",
      "Collecting fiona>=1.8.21 (from geopandas)\n",
      "  Downloading fiona-1.9.6-cp311-cp311-win_amd64.whl.metadata (51 kB)\n",
      "     ---------------------------------------- 0.0/51.5 kB ? eta -:--:--\n",
      "     --------------- ---------------------- 20.5/51.5 kB 330.3 kB/s eta 0:00:01\n",
      "     -------------------------------------- 51.5/51.5 kB 529.4 kB/s eta 0:00:00\n",
      "Requirement already satisfied: packaging in c:\\users\\lenovo\\anaconda3\\lib\\site-packages (from geopandas) (23.1)\n",
      "Requirement already satisfied: pandas>=1.4.0 in c:\\users\\lenovo\\anaconda3\\lib\\site-packages (from geopandas) (2.1.4)\n",
      "Collecting pyproj>=3.3.0 (from geopandas)\n",
      "  Downloading pyproj-3.6.1-cp311-cp311-win_amd64.whl.metadata (31 kB)\n",
      "Collecting shapely>=1.8.0 (from geopandas)\n",
      "  Downloading shapely-2.0.3-cp311-cp311-win_amd64.whl.metadata (7.2 kB)\n",
      "Requirement already satisfied: attrs>=19.2.0 in c:\\users\\lenovo\\anaconda3\\lib\\site-packages (from fiona>=1.8.21->geopandas) (23.1.0)\n",
      "Requirement already satisfied: certifi in c:\\users\\lenovo\\anaconda3\\lib\\site-packages (from fiona>=1.8.21->geopandas) (2024.2.2)\n",
      "Requirement already satisfied: click~=8.0 in c:\\users\\lenovo\\anaconda3\\lib\\site-packages (from fiona>=1.8.21->geopandas) (8.1.7)\n",
      "Collecting click-plugins>=1.0 (from fiona>=1.8.21->geopandas)\n",
      "  Downloading click_plugins-1.1.1-py2.py3-none-any.whl.metadata (6.4 kB)\n",
      "Collecting cligj>=0.5 (from fiona>=1.8.21->geopandas)\n",
      "  Downloading cligj-0.7.2-py3-none-any.whl.metadata (5.0 kB)\n",
      "Requirement already satisfied: six in c:\\users\\lenovo\\anaconda3\\lib\\site-packages (from fiona>=1.8.21->geopandas) (1.16.0)\n",
      "Requirement already satisfied: numpy<2,>=1.23.2 in c:\\users\\lenovo\\anaconda3\\lib\\site-packages (from pandas>=1.4.0->geopandas) (1.26.4)\n",
      "Requirement already satisfied: python-dateutil>=2.8.2 in c:\\users\\lenovo\\anaconda3\\lib\\site-packages (from pandas>=1.4.0->geopandas) (2.8.2)\n",
      "Requirement already satisfied: pytz>=2020.1 in c:\\users\\lenovo\\anaconda3\\lib\\site-packages (from pandas>=1.4.0->geopandas) (2023.3.post1)\n",
      "Requirement already satisfied: tzdata>=2022.1 in c:\\users\\lenovo\\anaconda3\\lib\\site-packages (from pandas>=1.4.0->geopandas) (2023.3)\n",
      "Requirement already satisfied: colorama in c:\\users\\lenovo\\anaconda3\\lib\\site-packages (from click~=8.0->fiona>=1.8.21->geopandas) (0.4.6)\n",
      "Downloading geopandas-0.14.3-py3-none-any.whl (1.1 MB)\n",
      "   ---------------------------------------- 0.0/1.1 MB ? eta -:--:--\n",
      "   ----------- ---------------------------- 0.3/1.1 MB 9.6 MB/s eta 0:00:01\n",
      "   ----------------------------- ---------- 0.8/1.1 MB 10.5 MB/s eta 0:00:01\n",
      "   ---------------------------------------- 1.1/1.1 MB 11.7 MB/s eta 0:00:00\n",
      "Downloading fiona-1.9.6-cp311-cp311-win_amd64.whl (22.9 MB)\n",
      "   ---------------------------------------- 0.0/22.9 MB ? eta -:--:--\n",
      "   ---------------------------------------- 0.2/22.9 MB 14.1 MB/s eta 0:00:02\n",
      "    --------------------------------------- 0.4/22.9 MB 4.6 MB/s eta 0:00:05\n",
      "   - -------------------------------------- 0.8/22.9 MB 6.1 MB/s eta 0:00:04\n",
      "   - -------------------------------------- 1.0/22.9 MB 5.9 MB/s eta 0:00:04\n",
      "   -- ------------------------------------- 1.4/22.9 MB 6.9 MB/s eta 0:00:04\n",
      "   -- ------------------------------------- 1.7/22.9 MB 6.7 MB/s eta 0:00:04\n",
      "   --- ------------------------------------ 2.0/22.9 MB 6.7 MB/s eta 0:00:04\n",
      "   ---- ----------------------------------- 2.4/22.9 MB 6.8 MB/s eta 0:00:04\n",
      "   ---- ----------------------------------- 2.7/22.9 MB 6.9 MB/s eta 0:00:03\n",
      "   ----- ---------------------------------- 3.1/22.9 MB 7.0 MB/s eta 0:00:03\n",
      "   ----- ---------------------------------- 3.3/22.9 MB 7.0 MB/s eta 0:00:03\n",
      "   ------ --------------------------------- 3.6/22.9 MB 7.0 MB/s eta 0:00:03\n",
      "   ------- -------------------------------- 4.3/22.9 MB 7.4 MB/s eta 0:00:03\n",
      "   -------- ------------------------------- 4.6/22.9 MB 7.5 MB/s eta 0:00:03\n",
      "   --------- ------------------------------ 5.2/22.9 MB 7.7 MB/s eta 0:00:03\n",
      "   --------- ------------------------------ 5.7/22.9 MB 7.9 MB/s eta 0:00:03\n",
      "   ---------- ----------------------------- 6.1/22.9 MB 7.9 MB/s eta 0:00:03\n",
      "   ----------- ---------------------------- 6.8/22.9 MB 8.3 MB/s eta 0:00:02\n",
      "   ------------ --------------------------- 7.3/22.9 MB 8.7 MB/s eta 0:00:02\n",
      "   ------------- -------------------------- 8.0/22.9 MB 9.0 MB/s eta 0:00:02\n",
      "   --------------- ------------------------ 8.6/22.9 MB 9.0 MB/s eta 0:00:02\n",
      "   ---------------- ----------------------- 9.4/22.9 MB 9.4 MB/s eta 0:00:02\n",
      "   ----------------- ---------------------- 10.1/22.9 MB 9.6 MB/s eta 0:00:02\n",
      "   ------------------- -------------------- 10.9/22.9 MB 10.4 MB/s eta 0:00:02\n",
      "   -------------------- ------------------- 11.6/22.9 MB 11.1 MB/s eta 0:00:02\n",
      "   --------------------- ------------------ 12.5/22.9 MB 11.9 MB/s eta 0:00:01\n",
      "   ----------------------- ---------------- 13.3/22.9 MB 12.8 MB/s eta 0:00:01\n",
      "   ------------------------ --------------- 14.1/22.9 MB 13.9 MB/s eta 0:00:01\n",
      "   -------------------------- ------------- 14.9/22.9 MB 14.6 MB/s eta 0:00:01\n",
      "   --------------------------- ------------ 15.8/22.9 MB 15.2 MB/s eta 0:00:01\n",
      "   ---------------------------- ----------- 16.6/22.9 MB 15.6 MB/s eta 0:00:01\n",
      "   ------------------------------ --------- 17.3/22.9 MB 16.0 MB/s eta 0:00:01\n",
      "   ------------------------------- -------- 18.2/22.9 MB 16.4 MB/s eta 0:00:01\n",
      "   --------------------------------- ------ 18.9/22.9 MB 16.8 MB/s eta 0:00:01\n",
      "   --------------------------------- ------ 19.3/22.9 MB 16.4 MB/s eta 0:00:01\n",
      "   ----------------------------------- ---- 20.2/22.9 MB 16.8 MB/s eta 0:00:01\n",
      "   ------------------------------------ --- 20.9/22.9 MB 16.0 MB/s eta 0:00:01\n",
      "   ------------------------------------- -- 21.7/22.9 MB 16.4 MB/s eta 0:00:01\n",
      "   ---------------------------------------  22.6/22.9 MB 16.4 MB/s eta 0:00:01\n",
      "   ---------------------------------------  22.9/22.9 MB 16.4 MB/s eta 0:00:01\n",
      "   ---------------------------------------- 22.9/22.9 MB 15.6 MB/s eta 0:00:00\n",
      "Downloading pyproj-3.6.1-cp311-cp311-win_amd64.whl (6.1 MB)\n",
      "   ---------------------------------------- 0.0/6.1 MB ? eta -:--:--\n",
      "   ----- ---------------------------------- 0.8/6.1 MB 24.6 MB/s eta 0:00:01\n",
      "   -------- ------------------------------- 1.3/6.1 MB 20.8 MB/s eta 0:00:01\n",
      "   --------------- ------------------------ 2.3/6.1 MB 18.4 MB/s eta 0:00:01\n",
      "   ------------------- -------------------- 2.9/6.1 MB 17.1 MB/s eta 0:00:01\n",
      "   ------------------------ --------------- 3.8/6.1 MB 17.3 MB/s eta 0:00:01\n",
      "   ------------------------------ --------- 4.6/6.1 MB 17.1 MB/s eta 0:00:01\n",
      "   ---------------------------------- ----- 5.2/6.1 MB 15.9 MB/s eta 0:00:01\n",
      "   ---------------------------------------  6.0/6.1 MB 16.0 MB/s eta 0:00:01\n",
      "   ---------------------------------------- 6.1/6.1 MB 15.5 MB/s eta 0:00:00\n",
      "Downloading shapely-2.0.3-cp311-cp311-win_amd64.whl (1.4 MB)\n",
      "   ---------------------------------------- 0.0/1.4 MB ? eta -:--:--\n",
      "   ------------------ --------------------- 0.7/1.4 MB 21.1 MB/s eta 0:00:01\n",
      "   ---------------------------------------  1.4/1.4 MB 18.2 MB/s eta 0:00:01\n",
      "   ---------------------------------------- 1.4/1.4 MB 15.2 MB/s eta 0:00:00\n",
      "Downloading click_plugins-1.1.1-py2.py3-none-any.whl (7.5 kB)\n",
      "Downloading cligj-0.7.2-py3-none-any.whl (7.1 kB)\n",
      "Installing collected packages: shapely, pyproj, cligj, click-plugins, fiona, geopandas\n",
      "Successfully installed click-plugins-1.1.1 cligj-0.7.2 fiona-1.9.6 geopandas-0.14.3 pyproj-3.6.1 shapely-2.0.3\n",
      "Note: you may need to restart the kernel to use updated packages.\n"
     ]
    }
   ],
   "source": [
    "pip install geopandas"
   ]
  },
  {
   "cell_type": "code",
   "execution_count": 3,
   "id": "9c9cdc9c-35ce-4326-b520-2b315e54d7b7",
   "metadata": {},
   "outputs": [
    {
     "ename": "DriverError",
     "evalue": "maps\\World_Countries\\World_Countries.shp: No such file or directory",
     "output_type": "error",
     "traceback": [
      "\u001b[1;31m---------------------------------------------------------------------------\u001b[0m",
      "\u001b[1;31mCPLE_OpenFailedError\u001b[0m                      Traceback (most recent call last)",
      "File \u001b[1;32mfiona\\\\ogrext.pyx:136\u001b[0m, in \u001b[0;36mfiona.ogrext.gdal_open_vector\u001b[1;34m()\u001b[0m\n",
      "File \u001b[1;32mfiona\\\\_err.pyx:291\u001b[0m, in \u001b[0;36mfiona._err.exc_wrap_pointer\u001b[1;34m()\u001b[0m\n",
      "\u001b[1;31mCPLE_OpenFailedError\u001b[0m: maps\\World_Countries\\World_Countries.shp: No such file or directory",
      "\nDuring handling of the above exception, another exception occurred:\n",
      "\u001b[1;31mDriverError\u001b[0m                               Traceback (most recent call last)",
      "Cell \u001b[1;32mIn[3], line 3\u001b[0m\n\u001b[0;32m      1\u001b[0m \u001b[38;5;28;01mimport\u001b[39;00m \u001b[38;5;21;01mos\u001b[39;00m\u001b[38;5;241m,\u001b[39m \u001b[38;5;21;01mgeopandas\u001b[39;00m \u001b[38;5;28;01mas\u001b[39;00m \u001b[38;5;21;01mgpd\u001b[39;00m\n\u001b[1;32m----> 3\u001b[0m countries\u001b[38;5;241m=\u001b[39mgpd\u001b[38;5;241m.\u001b[39mread_file(os\u001b[38;5;241m.\u001b[39mpath\u001b[38;5;241m.\u001b[39mjoin(\u001b[38;5;124m\"\u001b[39m\u001b[38;5;124mmaps\u001b[39m\u001b[38;5;124m\"\u001b[39m,\u001b[38;5;124m\"\u001b[39m\u001b[38;5;124mWorld_Countries\u001b[39m\u001b[38;5;124m\"\u001b[39m,\u001b[38;5;124m\"\u001b[39m\u001b[38;5;124mWorld_Countries.shp\u001b[39m\u001b[38;5;124m\"\u001b[39m))\n",
      "File \u001b[1;32m~\\anaconda3\\Lib\\site-packages\\geopandas\\io\\file.py:297\u001b[0m, in \u001b[0;36m_read_file\u001b[1;34m(filename, bbox, mask, rows, engine, **kwargs)\u001b[0m\n\u001b[0;32m    294\u001b[0m     \u001b[38;5;28;01melse\u001b[39;00m:\n\u001b[0;32m    295\u001b[0m         path_or_bytes \u001b[38;5;241m=\u001b[39m filename\n\u001b[1;32m--> 297\u001b[0m     \u001b[38;5;28;01mreturn\u001b[39;00m _read_file_fiona(\n\u001b[0;32m    298\u001b[0m         path_or_bytes, from_bytes, bbox\u001b[38;5;241m=\u001b[39mbbox, mask\u001b[38;5;241m=\u001b[39mmask, rows\u001b[38;5;241m=\u001b[39mrows, \u001b[38;5;241m*\u001b[39m\u001b[38;5;241m*\u001b[39mkwargs\n\u001b[0;32m    299\u001b[0m     )\n\u001b[0;32m    301\u001b[0m \u001b[38;5;28;01melse\u001b[39;00m:\n\u001b[0;32m    302\u001b[0m     \u001b[38;5;28;01mraise\u001b[39;00m \u001b[38;5;167;01mValueError\u001b[39;00m(\u001b[38;5;124mf\u001b[39m\u001b[38;5;124m\"\u001b[39m\u001b[38;5;124munknown engine \u001b[39m\u001b[38;5;124m'\u001b[39m\u001b[38;5;132;01m{\u001b[39;00mengine\u001b[38;5;132;01m}\u001b[39;00m\u001b[38;5;124m'\u001b[39m\u001b[38;5;124m\"\u001b[39m)\n",
      "File \u001b[1;32m~\\anaconda3\\Lib\\site-packages\\geopandas\\io\\file.py:338\u001b[0m, in \u001b[0;36m_read_file_fiona\u001b[1;34m(path_or_bytes, from_bytes, bbox, mask, rows, where, **kwargs)\u001b[0m\n\u001b[0;32m    335\u001b[0m     reader \u001b[38;5;241m=\u001b[39m fiona\u001b[38;5;241m.\u001b[39mopen\n\u001b[0;32m    337\u001b[0m \u001b[38;5;28;01mwith\u001b[39;00m fiona_env():\n\u001b[1;32m--> 338\u001b[0m     \u001b[38;5;28;01mwith\u001b[39;00m reader(path_or_bytes, \u001b[38;5;241m*\u001b[39m\u001b[38;5;241m*\u001b[39mkwargs) \u001b[38;5;28;01mas\u001b[39;00m features:\n\u001b[0;32m    339\u001b[0m         crs \u001b[38;5;241m=\u001b[39m features\u001b[38;5;241m.\u001b[39mcrs_wkt\n\u001b[0;32m    340\u001b[0m         \u001b[38;5;66;03m# attempt to get EPSG code\u001b[39;00m\n",
      "File \u001b[1;32m~\\anaconda3\\Lib\\site-packages\\fiona\\env.py:457\u001b[0m, in \u001b[0;36mensure_env_with_credentials.<locals>.wrapper\u001b[1;34m(*args, **kwds)\u001b[0m\n\u001b[0;32m    454\u001b[0m     session \u001b[38;5;241m=\u001b[39m DummySession()\n\u001b[0;32m    456\u001b[0m \u001b[38;5;28;01mwith\u001b[39;00m env_ctor(session\u001b[38;5;241m=\u001b[39msession):\n\u001b[1;32m--> 457\u001b[0m     \u001b[38;5;28;01mreturn\u001b[39;00m f(\u001b[38;5;241m*\u001b[39margs, \u001b[38;5;241m*\u001b[39m\u001b[38;5;241m*\u001b[39mkwds)\n",
      "File \u001b[1;32m~\\anaconda3\\Lib\\site-packages\\fiona\\__init__.py:305\u001b[0m, in \u001b[0;36mopen\u001b[1;34m(fp, mode, driver, schema, crs, encoding, layer, vfs, enabled_drivers, crs_wkt, allow_unsupported_drivers, **kwargs)\u001b[0m\n\u001b[0;32m    302\u001b[0m     path \u001b[38;5;241m=\u001b[39m parse_path(fp)\n\u001b[0;32m    304\u001b[0m \u001b[38;5;28;01mif\u001b[39;00m mode \u001b[38;5;129;01min\u001b[39;00m (\u001b[38;5;124m\"\u001b[39m\u001b[38;5;124ma\u001b[39m\u001b[38;5;124m\"\u001b[39m, \u001b[38;5;124m\"\u001b[39m\u001b[38;5;124mr\u001b[39m\u001b[38;5;124m\"\u001b[39m):\n\u001b[1;32m--> 305\u001b[0m     colxn \u001b[38;5;241m=\u001b[39m Collection(\n\u001b[0;32m    306\u001b[0m         path,\n\u001b[0;32m    307\u001b[0m         mode,\n\u001b[0;32m    308\u001b[0m         driver\u001b[38;5;241m=\u001b[39mdriver,\n\u001b[0;32m    309\u001b[0m         encoding\u001b[38;5;241m=\u001b[39mencoding,\n\u001b[0;32m    310\u001b[0m         layer\u001b[38;5;241m=\u001b[39mlayer,\n\u001b[0;32m    311\u001b[0m         enabled_drivers\u001b[38;5;241m=\u001b[39menabled_drivers,\n\u001b[0;32m    312\u001b[0m         allow_unsupported_drivers\u001b[38;5;241m=\u001b[39mallow_unsupported_drivers,\n\u001b[0;32m    313\u001b[0m         \u001b[38;5;241m*\u001b[39m\u001b[38;5;241m*\u001b[39mkwargs\n\u001b[0;32m    314\u001b[0m     )\n\u001b[0;32m    315\u001b[0m \u001b[38;5;28;01melif\u001b[39;00m mode \u001b[38;5;241m==\u001b[39m \u001b[38;5;124m\"\u001b[39m\u001b[38;5;124mw\u001b[39m\u001b[38;5;124m\"\u001b[39m:\n\u001b[0;32m    316\u001b[0m     colxn \u001b[38;5;241m=\u001b[39m Collection(\n\u001b[0;32m    317\u001b[0m         path,\n\u001b[0;32m    318\u001b[0m         mode,\n\u001b[1;32m   (...)\u001b[0m\n\u001b[0;32m    327\u001b[0m         \u001b[38;5;241m*\u001b[39m\u001b[38;5;241m*\u001b[39mkwargs\n\u001b[0;32m    328\u001b[0m     )\n",
      "File \u001b[1;32m~\\anaconda3\\Lib\\site-packages\\fiona\\collection.py:243\u001b[0m, in \u001b[0;36mCollection.__init__\u001b[1;34m(self, path, mode, driver, schema, crs, encoding, layer, vsi, archive, enabled_drivers, crs_wkt, ignore_fields, ignore_geometry, include_fields, wkt_version, allow_unsupported_drivers, **kwargs)\u001b[0m\n\u001b[0;32m    241\u001b[0m \u001b[38;5;28;01mif\u001b[39;00m \u001b[38;5;28mself\u001b[39m\u001b[38;5;241m.\u001b[39mmode \u001b[38;5;241m==\u001b[39m \u001b[38;5;124m\"\u001b[39m\u001b[38;5;124mr\u001b[39m\u001b[38;5;124m\"\u001b[39m:\n\u001b[0;32m    242\u001b[0m     \u001b[38;5;28mself\u001b[39m\u001b[38;5;241m.\u001b[39msession \u001b[38;5;241m=\u001b[39m Session()\n\u001b[1;32m--> 243\u001b[0m     \u001b[38;5;28mself\u001b[39m\u001b[38;5;241m.\u001b[39msession\u001b[38;5;241m.\u001b[39mstart(\u001b[38;5;28mself\u001b[39m, \u001b[38;5;241m*\u001b[39m\u001b[38;5;241m*\u001b[39mkwargs)\n\u001b[0;32m    244\u001b[0m \u001b[38;5;28;01melif\u001b[39;00m \u001b[38;5;28mself\u001b[39m\u001b[38;5;241m.\u001b[39mmode \u001b[38;5;129;01min\u001b[39;00m (\u001b[38;5;124m\"\u001b[39m\u001b[38;5;124ma\u001b[39m\u001b[38;5;124m\"\u001b[39m, \u001b[38;5;124m\"\u001b[39m\u001b[38;5;124mw\u001b[39m\u001b[38;5;124m\"\u001b[39m):\n\u001b[0;32m    245\u001b[0m     \u001b[38;5;28mself\u001b[39m\u001b[38;5;241m.\u001b[39msession \u001b[38;5;241m=\u001b[39m WritingSession()\n",
      "File \u001b[1;32mfiona\\\\ogrext.pyx:588\u001b[0m, in \u001b[0;36mfiona.ogrext.Session.start\u001b[1;34m()\u001b[0m\n",
      "File \u001b[1;32mfiona\\\\ogrext.pyx:143\u001b[0m, in \u001b[0;36mfiona.ogrext.gdal_open_vector\u001b[1;34m()\u001b[0m\n",
      "\u001b[1;31mDriverError\u001b[0m: maps\\World_Countries\\World_Countries.shp: No such file or directory"
     ]
    }
   ],
   "source": [
    "import os, geopandas as gpd\n",
    "\n",
    "countries=gpd.read_file(os.path.join(\"maps\",\"World_Countries\",\"World_Countries.shp\"))"
   ]
  },
  {
   "cell_type": "code",
   "execution_count": null,
   "id": "33b650aa-04d9-4fdf-99c3-9e777d8dd06a",
   "metadata": {},
   "outputs": [],
   "source": []
  }
 ],
 "metadata": {
  "kernelspec": {
   "display_name": "Python 3 (ipykernel)",
   "language": "python",
   "name": "python3"
  },
  "language_info": {
   "codemirror_mode": {
    "name": "ipython",
    "version": 3
   },
   "file_extension": ".py",
   "mimetype": "text/x-python",
   "name": "python",
   "nbconvert_exporter": "python",
   "pygments_lexer": "ipython3",
   "version": "3.11.7"
  }
 },
 "nbformat": 4,
 "nbformat_minor": 5
}
